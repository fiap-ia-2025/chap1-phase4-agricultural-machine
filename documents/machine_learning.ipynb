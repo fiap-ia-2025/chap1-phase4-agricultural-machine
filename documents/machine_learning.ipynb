{
 "cells": [
  {
   "cell_type": "code",
   "execution_count": 398,
   "id": "9611ebea-d4f7-4c42-ac7a-8bde62a504bf",
   "metadata": {},
   "outputs": [],
   "source": [
    "import missingno as mscno\n",
    "import pandas as pd\n",
    "from sklearn.preprocessing import StandardScaler\n",
    "from sklearn.preprocessing import LabelEncoder\n",
    "from sklearn.neighbors import KNeighborsClassifier\n",
    "from sklearn.model_selection import train_test_split\n",
    "from sklearn.metrics import accuracy_score\n",
    "from sklearn.linear_model import LogisticRegression\n",
    "from sklearn.svm import SVC\n",
    "from sklearn.tree import DecisionTreeClassifier\n",
    "from sklearn.ensemble import RandomForestClassifier\n",
    "from sklearn.impute import KNNImputer\n",
    "from sklearn.preprocessing import StandardScaler\n",
    "from sklearn.preprocessing import LabelEncoder\n",
    "import joblib"
   ]
  },
  {
   "cell_type": "code",
   "execution_count": 399,
   "id": "301804fb-74ca-4cd5-95dd-b223f69d1da3",
   "metadata": {},
   "outputs": [
    {
     "name": "stdout",
     "output_type": "stream",
     "text": [
      "<class 'pandas.core.frame.DataFrame'>\n",
      "RangeIndex: 532 entries, 0 to 531\n",
      "Data columns (total 6 columns):\n",
      " #   Column            Non-Null Count  Dtype  \n",
      "---  ------            --------------  -----  \n",
      " 0   humidity          532 non-null    float64\n",
      " 1   phsimulated       530 non-null    float64\n",
      " 2   temperature       531 non-null    float64\n",
      " 3   phosphorusstatus  531 non-null    object \n",
      " 4   potassiumstatus   532 non-null    object \n",
      " 5   shouldirrigate    532 non-null    int64  \n",
      "dtypes: float64(3), int64(1), object(2)\n",
      "memory usage: 25.1+ KB\n"
     ]
    },
    {
     "data": {
      "text/html": [
       "<div>\n",
       "<style scoped>\n",
       "    .dataframe tbody tr th:only-of-type {\n",
       "        vertical-align: middle;\n",
       "    }\n",
       "\n",
       "    .dataframe tbody tr th {\n",
       "        vertical-align: top;\n",
       "    }\n",
       "\n",
       "    .dataframe thead th {\n",
       "        text-align: right;\n",
       "    }\n",
       "</style>\n",
       "<table border=\"1\" class=\"dataframe\">\n",
       "  <thead>\n",
       "    <tr style=\"text-align: right;\">\n",
       "      <th></th>\n",
       "      <th>humidity</th>\n",
       "      <th>phsimulated</th>\n",
       "      <th>temperature</th>\n",
       "      <th>phosphorusstatus</th>\n",
       "      <th>potassiumstatus</th>\n",
       "      <th>shouldirrigate</th>\n",
       "    </tr>\n",
       "  </thead>\n",
       "  <tbody>\n",
       "    <tr>\n",
       "      <th>0</th>\n",
       "      <td>0.0</td>\n",
       "      <td>3.42</td>\n",
       "      <td>80.0</td>\n",
       "      <td>P</td>\n",
       "      <td>P</td>\n",
       "      <td>1</td>\n",
       "    </tr>\n",
       "    <tr>\n",
       "      <th>1</th>\n",
       "      <td>0.0</td>\n",
       "      <td>3.42</td>\n",
       "      <td>80.0</td>\n",
       "      <td>P</td>\n",
       "      <td>P</td>\n",
       "      <td>1</td>\n",
       "    </tr>\n",
       "    <tr>\n",
       "      <th>2</th>\n",
       "      <td>0.0</td>\n",
       "      <td>3.42</td>\n",
       "      <td>80.0</td>\n",
       "      <td>P</td>\n",
       "      <td>P</td>\n",
       "      <td>1</td>\n",
       "    </tr>\n",
       "    <tr>\n",
       "      <th>3</th>\n",
       "      <td>0.0</td>\n",
       "      <td>3.42</td>\n",
       "      <td>80.0</td>\n",
       "      <td>P</td>\n",
       "      <td>P</td>\n",
       "      <td>1</td>\n",
       "    </tr>\n",
       "    <tr>\n",
       "      <th>4</th>\n",
       "      <td>0.0</td>\n",
       "      <td>3.42</td>\n",
       "      <td>80.0</td>\n",
       "      <td>P</td>\n",
       "      <td>P</td>\n",
       "      <td>1</td>\n",
       "    </tr>\n",
       "  </tbody>\n",
       "</table>\n",
       "</div>"
      ],
      "text/plain": [
       "   humidity  phsimulated  temperature phosphorusstatus potassiumstatus  \\\n",
       "0       0.0         3.42         80.0                P               P   \n",
       "1       0.0         3.42         80.0                P               P   \n",
       "2       0.0         3.42         80.0                P               P   \n",
       "3       0.0         3.42         80.0                P               P   \n",
       "4       0.0         3.42         80.0                P               P   \n",
       "\n",
       "   shouldirrigate  \n",
       "0               1  \n",
       "1               1  \n",
       "2               1  \n",
       "3               1  \n",
       "4               1  "
      ]
     },
     "execution_count": 399,
     "metadata": {},
     "output_type": "execute_result"
    }
   ],
   "source": [
    "path = r\"/Users/amanda/Documents/FIAP/projetos/chap1-phase4-agricultural-machine/documents/coletas.csv\"\n",
    "df = pd.read_csv(path)\n",
    "df.info()\n",
    "df.head()"
   ]
  },
  {
   "cell_type": "code",
   "execution_count": 400,
   "id": "70dc4d6c-ce65-45e2-9250-e42b39778b23",
   "metadata": {},
   "outputs": [
    {
     "data": {
      "text/plain": [
       "humidity            43\n",
       "phsimulated         21\n",
       "temperature         38\n",
       "phosphorusstatus     2\n",
       "potassiumstatus      2\n",
       "shouldirrigate       2\n",
       "dtype: int64"
      ]
     },
     "execution_count": 400,
     "metadata": {},
     "output_type": "execute_result"
    }
   ],
   "source": [
    "# Mostrar a quantidade de valores únicos em cada coluna\n",
    "df.nunique()"
   ]
  },
  {
   "cell_type": "code",
   "execution_count": 401,
   "id": "005a3374-0703-428c-aef8-c058a58cea5e",
   "metadata": {},
   "outputs": [
    {
     "data": {
      "text/plain": [
       "humidity            0\n",
       "phsimulated         2\n",
       "temperature         1\n",
       "phosphorusstatus    1\n",
       "potassiumstatus     0\n",
       "shouldirrigate      0\n",
       "dtype: int64"
      ]
     },
     "execution_count": 401,
     "metadata": {},
     "output_type": "execute_result"
    }
   ],
   "source": [
    "# Mostrar a quantidade de valores nulos em cada coluna\n",
    "df.isnull().sum()"
   ]
  },
  {
   "cell_type": "code",
   "execution_count": 402,
   "id": "d5df9ebf-169c-4aab-8933-4631451b9760",
   "metadata": {},
   "outputs": [
    {
     "data": {
      "text/plain": [
       "<Axes: >"
      ]
     },
     "execution_count": 402,
     "metadata": {},
     "output_type": "execute_result"
    },
    {
     "data": {
      "image/png": "[encoded data removed]",
      "text/plain": [
       "<Figure size 2500x1000 with 2 Axes>"
      ]
     },
     "metadata": {},
     "output_type": "display_data"
    }
   ],
   "source": [
    "#Visualizar dados faltantes\n",
    "mscno.matrix(df)"
   ]
  },
  {
   "cell_type": "code",
   "execution_count": 403,
   "id": "5527129e-84ac-4f05-a345-d4896837dc29",
   "metadata": {},
   "outputs": [
    {
     "name": "stdout",
     "output_type": "stream",
     "text": [
      "Número de dados duplicados: 414\n"
     ]
    }
   ],
   "source": [
    "# Verificar a presença de dados duplicados\n",
    "duplicates = df.duplicated().sum()\n",
    "print(\"Número de dados duplicados:\", duplicates)"
   ]
  },
  {
   "cell_type": "code",
   "execution_count": 404,
   "id": "0c8cbf95-9c3c-4db2-96d0-17d61c46e533",
   "metadata": {},
   "outputs": [
    {
     "name": "stdout",
     "output_type": "stream",
     "text": [
      "Dados duplicados removidos.\n"
     ]
    }
   ],
   "source": [
    "# Remover dados duplicados\n",
    "if duplicates > 0:\n",
    "    df = df.drop_duplicates()\n",
    "    print(\"Dados duplicados removidos.\")\n",
    "else:   \n",
    "    print(\"Nenhum dado duplicado encontrado.\")"
   ]
  },
  {
   "cell_type": "code",
   "execution_count": 405,
   "id": "632208ab",
   "metadata": {},
   "outputs": [
    {
     "data": {
      "text/html": [
       "<div>\n",
       "<style scoped>\n",
       "    .dataframe tbody tr th:only-of-type {\n",
       "        vertical-align: middle;\n",
       "    }\n",
       "\n",
       "    .dataframe tbody tr th {\n",
       "        vertical-align: top;\n",
       "    }\n",
       "\n",
       "    .dataframe thead th {\n",
       "        text-align: right;\n",
       "    }\n",
       "</style>\n",
       "<table border=\"1\" class=\"dataframe\">\n",
       "  <thead>\n",
       "    <tr style=\"text-align: right;\">\n",
       "      <th></th>\n",
       "      <th>humidity</th>\n",
       "      <th>phsimulated</th>\n",
       "      <th>temperature</th>\n",
       "      <th>shouldirrigate</th>\n",
       "      <th>phosphorusstatus_enconder</th>\n",
       "      <th>potassiumstatus_enconder</th>\n",
       "    </tr>\n",
       "  </thead>\n",
       "  <tbody>\n",
       "    <tr>\n",
       "      <th>0</th>\n",
       "      <td>0.0</td>\n",
       "      <td>3.42</td>\n",
       "      <td>80.0</td>\n",
       "      <td>1</td>\n",
       "      <td>1</td>\n",
       "      <td>1</td>\n",
       "    </tr>\n",
       "    <tr>\n",
       "      <th>20</th>\n",
       "      <td>0.0</td>\n",
       "      <td>3.42</td>\n",
       "      <td>-40.0</td>\n",
       "      <td>1</td>\n",
       "      <td>1</td>\n",
       "      <td>1</td>\n",
       "    </tr>\n",
       "    <tr>\n",
       "      <th>24</th>\n",
       "      <td>7.5</td>\n",
       "      <td>3.42</td>\n",
       "      <td>-25.9</td>\n",
       "      <td>1</td>\n",
       "      <td>1</td>\n",
       "      <td>1</td>\n",
       "    </tr>\n",
       "    <tr>\n",
       "      <th>28</th>\n",
       "      <td>31.0</td>\n",
       "      <td>3.42</td>\n",
       "      <td>-38.3</td>\n",
       "      <td>1</td>\n",
       "      <td>1</td>\n",
       "      <td>1</td>\n",
       "    </tr>\n",
       "    <tr>\n",
       "      <th>32</th>\n",
       "      <td>10.5</td>\n",
       "      <td>3.42</td>\n",
       "      <td>80.0</td>\n",
       "      <td>1</td>\n",
       "      <td>1</td>\n",
       "      <td>1</td>\n",
       "    </tr>\n",
       "  </tbody>\n",
       "</table>\n",
       "</div>"
      ],
      "text/plain": [
       "    humidity  phsimulated  temperature  shouldirrigate  \\\n",
       "0        0.0         3.42         80.0               1   \n",
       "20       0.0         3.42        -40.0               1   \n",
       "24       7.5         3.42        -25.9               1   \n",
       "28      31.0         3.42        -38.3               1   \n",
       "32      10.5         3.42         80.0               1   \n",
       "\n",
       "    phosphorusstatus_enconder  potassiumstatus_enconder  \n",
       "0                           1                         1  \n",
       "20                          1                         1  \n",
       "24                          1                         1  \n",
       "28                          1                         1  \n",
       "32                          1                         1  "
      ]
     },
     "execution_count": 405,
     "metadata": {},
     "output_type": "execute_result"
    }
   ],
   "source": [
    "# Tranformar colunas categóricas em numéricas\n",
    "le = LabelEncoder()\n",
    "df[\"phosphorusstatus_enconder\"] = le.fit_transform( df[\"phosphorusstatus\"] )\n",
    "df[\"potassiumstatus_enconder\"] = le.fit_transform( df[\"potassiumstatus\"] )\n",
    "\n",
    "# Filtrar colunas relevantes\n",
    "df.drop( columns=[\"phosphorusstatus\", \"potassiumstatus\"] , inplace=True )\n",
    "df.head()\n"
   ]
  },
  {
   "cell_type": "code",
   "execution_count": 406,
   "id": "c3568bfd",
   "metadata": {},
   "outputs": [
    {
     "data": {
      "text/plain": [
       "humidity                     0\n",
       "phsimulated                  0\n",
       "temperature                  0\n",
       "shouldirrigate               0\n",
       "phosphorusstatus_enconder    0\n",
       "potassiumstatus_enconder     0\n",
       "dtype: int64"
      ]
     },
     "execution_count": 406,
     "metadata": {},
     "output_type": "execute_result"
    }
   ],
   "source": [
    "# Aplicando KNNImputer (substitui os valores ausentes usando os 5 vizinhos mais próximos)\n",
    "knn_imputer = KNNImputer(n_neighbors=5)\n",
    "knn_imputed = knn_imputer.fit_transform(df)\n",
    "knn_imputed = pd.DataFrame(knn_imputed, columns=df.columns)\n",
    "\n",
    "# Mostrar a quantidade de valores nulos em cada coluna\n",
    "knn_imputed.isnull().sum()"
   ]
  },
  {
   "cell_type": "code",
   "execution_count": 407,
   "id": "3d3e1c4b",
   "metadata": {},
   "outputs": [
    {
     "data": {
      "text/html": [
       "<div>\n",
       "<style scoped>\n",
       "    .dataframe tbody tr th:only-of-type {\n",
       "        vertical-align: middle;\n",
       "    }\n",
       "\n",
       "    .dataframe tbody tr th {\n",
       "        vertical-align: top;\n",
       "    }\n",
       "\n",
       "    .dataframe thead th {\n",
       "        text-align: right;\n",
       "    }\n",
       "</style>\n",
       "<table border=\"1\" class=\"dataframe\">\n",
       "  <thead>\n",
       "    <tr style=\"text-align: right;\">\n",
       "      <th></th>\n",
       "      <th>humidity</th>\n",
       "      <th>phsimulated</th>\n",
       "      <th>temperature</th>\n",
       "      <th>shouldirrigate</th>\n",
       "      <th>phosphorusstatus_enconder</th>\n",
       "      <th>potassiumstatus_enconder</th>\n",
       "    </tr>\n",
       "  </thead>\n",
       "  <tbody>\n",
       "    <tr>\n",
       "      <th>0</th>\n",
       "      <td>0.0</td>\n",
       "      <td>3.42</td>\n",
       "      <td>80.0</td>\n",
       "      <td>1.0</td>\n",
       "      <td>1.0</td>\n",
       "      <td>1.0</td>\n",
       "    </tr>\n",
       "    <tr>\n",
       "      <th>1</th>\n",
       "      <td>0.0</td>\n",
       "      <td>3.42</td>\n",
       "      <td>-40.0</td>\n",
       "      <td>1.0</td>\n",
       "      <td>1.0</td>\n",
       "      <td>1.0</td>\n",
       "    </tr>\n",
       "    <tr>\n",
       "      <th>2</th>\n",
       "      <td>7.5</td>\n",
       "      <td>3.42</td>\n",
       "      <td>-25.9</td>\n",
       "      <td>1.0</td>\n",
       "      <td>1.0</td>\n",
       "      <td>1.0</td>\n",
       "    </tr>\n",
       "    <tr>\n",
       "      <th>3</th>\n",
       "      <td>31.0</td>\n",
       "      <td>3.42</td>\n",
       "      <td>-38.3</td>\n",
       "      <td>1.0</td>\n",
       "      <td>1.0</td>\n",
       "      <td>1.0</td>\n",
       "    </tr>\n",
       "    <tr>\n",
       "      <th>4</th>\n",
       "      <td>10.5</td>\n",
       "      <td>3.42</td>\n",
       "      <td>80.0</td>\n",
       "      <td>1.0</td>\n",
       "      <td>1.0</td>\n",
       "      <td>1.0</td>\n",
       "    </tr>\n",
       "  </tbody>\n",
       "</table>\n",
       "</div>"
      ],
      "text/plain": [
       "   humidity  phsimulated  temperature  shouldirrigate  \\\n",
       "0       0.0         3.42         80.0             1.0   \n",
       "1       0.0         3.42        -40.0             1.0   \n",
       "2       7.5         3.42        -25.9             1.0   \n",
       "3      31.0         3.42        -38.3             1.0   \n",
       "4      10.5         3.42         80.0             1.0   \n",
       "\n",
       "   phosphorusstatus_enconder  potassiumstatus_enconder  \n",
       "0                        1.0                       1.0  \n",
       "1                        1.0                       1.0  \n",
       "2                        1.0                       1.0  \n",
       "3                        1.0                       1.0  \n",
       "4                        1.0                       1.0  "
      ]
     },
     "execution_count": 407,
     "metadata": {},
     "output_type": "execute_result"
    }
   ],
   "source": [
    "knn_imputed.head()"
   ]
  },
  {
   "cell_type": "code",
   "execution_count": 408,
   "id": "68ac7c94",
   "metadata": {},
   "outputs": [],
   "source": [
    "# Separando features e labels\n",
    "X = knn_imputed.drop('shouldirrigate', axis=1)\n",
    "y = df['shouldirrigate']\n",
    "\n",
    "# Aplicando StandardScaler\n",
    "scaler_standard = StandardScaler()\n",
    "X_scaled = scaler_standard.fit_transform(X)\n",
    "\n",
    "df_new = pd.DataFrame(knn_imputed)\n",
    "\n",
    "# Exporta os dados para arquivos\n",
    "# Cria datafrade com X_scaled e y\n",
    "df_new = pd.DataFrame(X_scaled, columns=X.columns)\n",
    "df_new['shouldirrigate'] = y.values\n",
    "# Exporta o dataframe para um arquivo CSV\n",
    "df_new.to_csv(\"/Users/amanda/Documents/FIAP/projetos/chap1-phase4-agricultural-machine/documents/coletas-dados-normalizados.csv\", index=False)\n",
    "\n",
    "#Dividindo os dados em conjunto de teste e treinamento\n",
    "X_train, X_test, y_train, y_test = train_test_split(X, y, test_size=0.2, random_state=42, stratify = y)"
   ]
  },
  {
   "cell_type": "code",
   "execution_count": 409,
   "id": "69d508a5",
   "metadata": {},
   "outputs": [
    {
     "name": "stdout",
     "output_type": "stream",
     "text": [
      "Acurácia KNN: 0.875\n"
     ]
    }
   ],
   "source": [
    "# KNN\n",
    "knn = KNeighborsClassifier(n_neighbors=9)\n",
    "knn.fit(X_train, y_train)\n",
    "y_pred_knn = knn.predict(X_test)\n",
    "print(\"Acurácia KNN:\", accuracy_score(y_test, y_pred_knn))"
   ]
  },
  {
   "cell_type": "code",
   "execution_count": 410,
   "id": "590e2e69",
   "metadata": {},
   "outputs": [
    {
     "name": "stdout",
     "output_type": "stream",
     "text": [
      "Acurácia Árvore de Decisão: 1.0"
     ]
    },
    {
     "name": "stdout",
     "output_type": "stream",
     "text": [
      "\n"
     ]
    }
   ],
   "source": [
    "# DecisionTree\n",
    "decisiontree = DecisionTreeClassifier(random_state=50)\n",
    "decisiontree.fit(X_train, y_train)\n",
    "y_decisiontree_predict = decisiontree.predict(X_test)\n",
    "decisiontree_accuracy = accuracy_score(y_test, y_decisiontree_predict)\n",
    "print(f\"Acurácia Árvore de Decisão: {decisiontree_accuracy}\")"
   ]
  },
  {
   "cell_type": "code",
   "execution_count": 411,
   "id": "8c333956",
   "metadata": {},
   "outputs": [
    {
     "name": "stdout",
     "output_type": "stream",
     "text": [
      "Acurácia do SVC: 0.9166666666666666\n"
     ]
    }
   ],
   "source": [
    "#SVM\n",
    "scale_svc = StandardScaler()\n",
    "\n",
    "svc = SVC(kernel='rbf', C=1.0, random_state=42)\n",
    "svc.fit(X_train, y_train)\n",
    "y_svc_predict = svc.predict(X_test)\n",
    "svc_accuracy = accuracy_score(y_test, y_svc_predict)\n",
    "print(f\"Acurácia do SVC: {svc_accuracy}\")"
   ]
  },
  {
   "cell_type": "code",
   "execution_count": 412,
   "id": "d064264c",
   "metadata": {},
   "outputs": [
    {
     "name": "stdout",
     "output_type": "stream",
     "text": [
      "Acurácia da Random Forest: 1.0\n"
     ]
    }
   ],
   "source": [
    "# Random Forest\n",
    "# A floresta aleatória (Random Forest) é um modelo baseado em múltiplas árvores de decisão que votam em conjunto para realizar a predição.\n",
    "rf_model = RandomForestClassifier(n_estimators=100, random_state=42)\n",
    "rf_model.fit(X_train, y_train)\n",
    "y_pred_rf = rf_model.predict(X_test)\n",
    "print(\"Acurácia da Random Forest:\", accuracy_score(y_test, y_pred_rf))"
   ]
  },
  {
   "cell_type": "code",
   "execution_count": 413,
   "id": "6ceb0a40",
   "metadata": {},
   "outputs": [
    {
     "name": "stdout",
     "output_type": "stream",
     "text": [
      "Acurácia da Regressão Logística: 0.9583333333333334\n"
     ]
    }
   ],
   "source": [
    "# Logistic Regression\n",
    "# A Regressão Logística é um modelo estatístico clássico usado para classificação. Embora originalmente binária, ela pode ser adaptada para múltiplas classes, como no nosso caso. A seguir, aplicamos esse modelo para prever o tipo de produto agrícola a partir das condições de solo e clima.\n",
    "\n",
    "logreg = LogisticRegression(max_iter=1000, solver='lbfgs')\n",
    "logreg.fit(X_train, y_train)\n",
    "y_pred_logreg = logreg.predict(X_test)\n",
    "print(\"Acurácia da Regressão Logística:\", accuracy_score(y_test, y_pred_logreg))"
   ]
  },
  {
   "cell_type": "code",
   "execution_count": 414,
   "id": "114d236e",
   "metadata": {},
   "outputs": [
    {
     "data": {
      "image/png": "[encoded data removed]",
      "text/plain": [
       "<Figure size 1000x600 with 1 Axes>"
      ]
     },
     "metadata": {},
     "output_type": "display_data"
    }
   ],
   "source": [
    "# Criar gráfico de barras para comparar as acurácias dos modelos\n",
    "import matplotlib.pyplot as plt \n",
    "models = ['KNN', 'Decision Tree', 'SVC', 'Random Forest', 'Logistic Regression']\n",
    "accuracies = [accuracy_score(y_test, y_pred_knn), decisiontree_accuracy, svc_accuracy, accuracy_score(y_test, y_pred_rf), accuracy_score(y_test, y_pred_logreg)] \n",
    "plt.figure(figsize=(10, 6))\n",
    "plt.bar(models, accuracies, color=['blue', 'orange', 'green', 'red', 'purple'])\n",
    "plt.xlabel('Modelos')\n",
    "plt.ylabel('Acurácia')\n",
    "plt.title('Comparação de Acurácias dos Modelos de Classificação')\n",
    "plt.ylim(0, 1)\n",
    "plt.xticks(rotation=45)\n",
    "plt.grid(axis='y')\n",
    "plt.show()"
   ]
  },
  {
   "cell_type": "code",
   "execution_count": 415,
   "id": "f758833b",
   "metadata": {},
   "outputs": [
    {
     "data": {
      "text/plain": [
       "['/Users/amanda/Documents/FIAP/projetos/chap1-phase4-agricultural-machine/documents/decision_tree_model.pkl']"
      ]
     },
     "execution_count": 415,
     "metadata": {},
     "output_type": "execute_result"
    }
   ],
   "source": [
    "## Usaremos nesse projeto o modelo de Decision Tree, pois ele apresentou a melhor acurácia.\n",
    "# Salvar o modelo Decision Tree\n",
    "joblib.dump(decisiontree, '/Users/amanda/Documents/FIAP/projetos/chap1-phase4-agricultural-machine/documents/decision_tree_model.pkl')"
   ]
  }
 ],
 "metadata": {
  "kernelspec": {
   "display_name": "Python 3 (ipykernel)",
   "language": "python",
   "name": "python3"
  },
  "language_info": {
   "codemirror_mode": {
    "name": "ipython",
    "version": 3
   },
   "file_extension": ".py",
   "mimetype": "text/x-python",
   "name": "python",
   "nbconvert_exporter": "python",
   "pygments_lexer": "ipython3",
   "version": "3.13.5"
  }
 },
 "nbformat": 4,
 "nbformat_minor": 5
}
